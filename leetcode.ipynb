{
 "cells": [
  {
   "cell_type": "code",
   "execution_count": 1,
   "metadata": {},
   "outputs": [
    {
     "name": "stdout",
     "output_type": "stream",
     "text": [
      "10\n",
      "20\n",
      "30\n"
     ]
    }
   ],
   "source": [
    "from __future__ import annotations\n",
    "\n",
    "class listnode:\n",
    "    def __init__(self, val: int = 0, next: listnode | None = None):\n",
    "        self.val = val\n",
    "        self.next = next\n",
    "\n",
    "node_1 = listnode(10)\n",
    "node_2 = listnode(20)\n",
    "node_1.next = node_2\n",
    "node_3 = listnode(30)\n",
    "node_2.next = node_3\n",
    "\n",
    "pointer_variable = node_1\n",
    "while pointer_variable is not None:\n",
    "    print(pointer_variable.val)\n",
    "    pointer_variable = pointer_variable.next"
   ]
  },
  {
   "cell_type": "code",
   "execution_count": 5,
   "metadata": {},
   "outputs": [
    {
     "name": "stdout",
     "output_type": "stream",
     "text": [
      "<class 'list'>\n"
     ]
    },
    {
     "data": {
      "text/plain": [
       "numpy.ndarray"
      ]
     },
     "execution_count": 5,
     "metadata": {},
     "output_type": "execute_result"
    }
   ],
   "source": [
    "import numpy as np\n",
    "l = [1, 2, 3, 4, 5, 6]\n",
    "print(type(l))\n",
    "n_l=np.array(l)\n",
    "type(n_l)"
   ]
  },
  {
   "attachments": {},
   "cell_type": "markdown",
   "metadata": {},
   "source": [
    "use myenv \n"
   ]
  },
  {
   "cell_type": "code",
   "execution_count": 4,
   "metadata": {},
   "outputs": [
    {
     "name": "stdout",
     "output_type": "stream",
     "text": [
      "<class 'list'>\n",
      "[1 3 5 7 9]\n"
     ]
    }
   ],
   "source": [
    "import numpy as np\n",
    "l = [1, 3, 5, 7, 9]\n",
    "print(type(l))\n",
    "n_1 = np.array(l)\n",
    "print(n_1)"
   ]
  },
  {
   "cell_type": "code",
   "execution_count": 6,
   "metadata": {},
   "outputs": [
    {
     "name": "stdout",
     "output_type": "stream",
     "text": [
      "<class 'list'>\n",
      "Dimension of n_1: 1\n"
     ]
    }
   ],
   "source": [
    "l = [1, 2, 3, 4, 5, 6]\n",
    "print(type(l))\n",
    "n_1 = np.array(l)\n",
    "type(n_1)\n",
    "print(f\"Dimension of n_1: {n_1.ndim}\")"
   ]
  },
  {
   "cell_type": "code",
   "execution_count": 7,
   "metadata": {},
   "outputs": [
    {
     "name": "stdout",
     "output_type": "stream",
     "text": [
      "[[ 1  2  3]\n",
      " [ 5  6  7]\n",
      " [ 8  9 10]]\n",
      "dimension of a: 2\n",
      "[[1 2]\n",
      " [3 4]\n",
      " [4 5]]\n",
      "dimension of b: 2\n"
     ]
    }
   ],
   "source": [
    "a = np.array([[1, 2, 3], [5, 6, 7], [8, 9, 10]])\n",
    "b = np.array([[1, 2], [3, 4], [4, 5]])\n",
    "print(a)\n",
    "print(f\"dimension of a: {a.ndim}\")\n",
    "print(b)\n",
    "print(f\"dimension of b: {b.ndim}\")"
   ]
  },
  {
   "cell_type": "code",
   "execution_count": 8,
   "metadata": {},
   "outputs": [
    {
     "name": "stdout",
     "output_type": "stream",
     "text": [
      "[[1 1]\n",
      " [1 1]\n",
      " [1 1]]\n",
      "[[1. 1.]\n",
      " [1. 1.]\n",
      " [1. 1.]]\n"
     ]
    }
   ],
   "source": [
    "a = np.ones(shape=(3, 2), dtype= np.int64)\n",
    "b = np.ones(shape= (3, 2), dtype=np.float64)\n",
    "print(a)\n",
    "print(b)\n"
   ]
  },
  {
   "cell_type": "code",
   "execution_count": 9,
   "metadata": {},
   "outputs": [
    {
     "name": "stdout",
     "output_type": "stream",
     "text": [
      "[[23925768161198147 32370111954616435 20548029787209820]\n",
      " [31525678432190556 27303570963497028 27866499440705628]\n",
      " [23644293187764321      481043480677 22236875352703071]]\n",
      "[[2.12199579e-314 1.45356712e-311]\n",
      " [4.66397970e-321 3.79442416e-321]]\n"
     ]
    }
   ],
   "source": [
    "a_empty = np.empty(shape=(3, 3), dtype=np.int64)\n",
    "b_empty = np.empty(shape=(2, 2), dtype=np.float64)\n",
    "print(a_empty)\n",
    "print(b_empty)"
   ]
  },
  {
   "cell_type": "code",
   "execution_count": 12,
   "metadata": {},
   "outputs": [
    {
     "name": "stdout",
     "output_type": "stream",
     "text": [
      "[ 0  1  2  3  4  5  6  7  8  9 10]\n",
      "[ 0.  1.  2.  3.  4.  5.  6.  7.  8.  9. 10.]\n"
     ]
    }
   ],
   "source": [
    "a = np.arange(start=0, stop=11, dtype=np.int64)\n",
    "print(a)\n",
    "b = np.arange(start=0, stop=11, dtype=np.float64)\n",
    "print(b)"
   ]
  },
  {
   "cell_type": "code",
   "execution_count": 13,
   "metadata": {},
   "outputs": [
    {
     "name": "stdout",
     "output_type": "stream",
     "text": [
      "[[25895968444448860 23925768161198147 32370111954616435]\n",
      " [20548029787209820 31525678432190556 27303570963497028]\n",
      " [27866499440705628 23644293187764321      481043480677]]\n",
      "\n",
      "[[2.12199579e-314 1.45356712e-311]\n",
      " [4.66397970e-321 3.79442416e-321]]\n"
     ]
    }
   ],
   "source": [
    "a_empty = np.empty(shape=(3, 3), dtype=np.int64)\n",
    "b_empty = np.empty(shape=(2, 2), dtype=np.float64)\n",
    "print(a_empty)\n",
    "print()\n",
    "print(b_empty)"
   ]
  },
  {
   "cell_type": "code",
   "execution_count": 15,
   "metadata": {},
   "outputs": [
    {
     "name": "stdout",
     "output_type": "stream",
     "text": [
      "[0. 0. 0. 0. 0. 0. 0. 0.]\n",
      "[0.   1.25 2.5  3.75 5.   6.25 7.5  8.75]\n",
      "[ 0.      1.4286  2.8571  4.2857  5.7143  7.1429  8.5714 10.    ]\n"
     ]
    }
   ],
   "source": [
    "np.set_printoptions(precision = 4)\n",
    "N = 8\n",
    "x1 = np.linspace(start=0, stop=0, num=N, endpoint=True)\n",
    "x2 = np.linspace(start=0, stop=10,num=N, endpoint=False)\n",
    "x3 = np.linspace(start=0, stop=10, num=N)\n",
    "print(x1)\n",
    "print(x2)\n",
    "print(x3)\n"
   ]
  },
  {
   "cell_type": "code",
   "execution_count": 4,
   "metadata": {},
   "outputs": [],
   "source": [
    "#leetcodesolution\n",
    "#two sum\n",
    "\n",
    "from typing import List\n",
    "class Solution:\n",
    "    def twoSum(self, nums: List[int], target: int) -> List[int]:\n",
    "        nums_dict = dict()\n",
    "        for index, value in enumerate(nums):\n",
    "            if (target - value) in nums_dict:\n",
    "                return [nums_dict[target - value], index]\n",
    "            nums_dict[value] = index"
   ]
  }
 ],
 "metadata": {
  "kernelspec": {
   "display_name": "myenv",
   "language": "python",
   "name": "python3"
  },
  "language_info": {
   "codemirror_mode": {
    "name": "ipython",
    "version": 3
   },
   "file_extension": ".py",
   "mimetype": "text/x-python",
   "name": "python",
   "nbconvert_exporter": "python",
   "pygments_lexer": "ipython3",
   "version": "3.10.8"
  },
  "orig_nbformat": 4,
  "vscode": {
   "interpreter": {
    "hash": "1a5e33d16fbcdc6c21b3bacbcef671513bf689805a905ed7069aa753e1a4a968"
   }
  }
 },
 "nbformat": 4,
 "nbformat_minor": 2
}
